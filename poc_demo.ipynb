{
  "cells": [
    {
      "cell_type": "code",
      "execution_count": 4,
      "metadata": {
        "colab": {
          "base_uri": "https://localhost:8080/"
        },
        "id": "V8eNBemsttsd",
        "outputId": "b7a86c33-ac70-40c0-facd-82f2a8305d17"
      },
      "outputs": [],
      "source": [
        "# imports\n",
        "# You will probably need anaconda to run this code\n",
        "import pandas as pd\n",
        "import numpy as np\n",
        "import statsmodels.api as sm\n",
        "from statsmodels.stats.outliers_influence import variance_inflation_factor\n",
        "from sklearn.preprocessing import LabelEncoder\n",
        "import matplotlib.pyplot as plt"
      ]
    },
    {
      "cell_type": "code",
      "execution_count": 33,
      "metadata": {
        "colab": {
          "base_uri": "https://localhost:8080/",
          "height": 417
        },
        "id": "Uh8Eea7_556r",
        "outputId": "f2122a4e-124b-418f-a664-7387563c2d46"
      },
      "outputs": [
        {
          "data": {
            "text/html": [
              "<div>\n",
              "<style scoped>\n",
              "    .dataframe tbody tr th:only-of-type {\n",
              "        vertical-align: middle;\n",
              "    }\n",
              "\n",
              "    .dataframe tbody tr th {\n",
              "        vertical-align: top;\n",
              "    }\n",
              "\n",
              "    .dataframe thead th {\n",
              "        text-align: right;\n",
              "    }\n",
              "</style>\n",
              "<table border=\"1\" class=\"dataframe\">\n",
              "  <thead>\n",
              "    <tr style=\"text-align: right;\">\n",
              "      <th></th>\n",
              "      <th>Date</th>\n",
              "      <th>Time</th>\n",
              "      <th>DOW</th>\n",
              "      <th>CAD Call Number</th>\n",
              "      <th>Case No.</th>\n",
              "      <th>Sectr</th>\n",
              "      <th>RA</th>\n",
              "      <th>Incident Type</th>\n",
              "      <th>Combined</th>\n",
              "      <th>Location</th>\n",
              "      <th>Unit</th>\n",
              "      <th>Common Name</th>\n",
              "      <th>Unit ID</th>\n",
              "      <th>Disposition Comments</th>\n",
              "    </tr>\n",
              "  </thead>\n",
              "  <tbody>\n",
              "    <tr>\n",
              "      <th>0</th>\n",
              "      <td>10/25/2016</td>\n",
              "      <td>10:36</td>\n",
              "      <td>Tuesday</td>\n",
              "      <td>PP16102500000843</td>\n",
              "      <td>NaN</td>\n",
              "      <td>B61</td>\n",
              "      <td>211</td>\n",
              "      <td>WARRANT SERVICE</td>\n",
              "      <td>False</td>\n",
              "      <td>6123 Ruatan St</td>\n",
              "      <td>NaN</td>\n",
              "      <td>NaN</td>\n",
              "      <td>PP/SC166</td>\n",
              "      <td>NaN</td>\n",
              "    </tr>\n",
              "    <tr>\n",
              "      <th>1</th>\n",
              "      <td>10/25/2016</td>\n",
              "      <td>13:31</td>\n",
              "      <td>Tuesday</td>\n",
              "      <td>PP16102500001229</td>\n",
              "      <td>NaN</td>\n",
              "      <td>B61</td>\n",
              "      <td>211</td>\n",
              "      <td>UNKNOWN TROUBLE</td>\n",
              "      <td>False</td>\n",
              "      <td>6215 Greenbelt Rd</td>\n",
              "      <td>NaN</td>\n",
              "      <td>NaN</td>\n",
              "      <td>NaN</td>\n",
              "      <td>NaN</td>\n",
              "    </tr>\n",
              "    <tr>\n",
              "      <th>2</th>\n",
              "      <td>10/25/2016</td>\n",
              "      <td>16:12</td>\n",
              "      <td>Tuesday</td>\n",
              "      <td>PP16102500001572</td>\n",
              "      <td>NaN</td>\n",
              "      <td>B61</td>\n",
              "      <td>211</td>\n",
              "      <td>DWI DRIVER</td>\n",
              "      <td>False</td>\n",
              "      <td>Kenilworth Ave Nb / Pontiac St</td>\n",
              "      <td>NaN</td>\n",
              "      <td>NaN</td>\n",
              "      <td>NaN</td>\n",
              "      <td>NaN</td>\n",
              "    </tr>\n",
              "    <tr>\n",
              "      <th>3</th>\n",
              "      <td>10/25/2016</td>\n",
              "      <td>16:49</td>\n",
              "      <td>Tuesday</td>\n",
              "      <td>PP16102500001667</td>\n",
              "      <td>NaN</td>\n",
              "      <td>B61</td>\n",
              "      <td>211</td>\n",
              "      <td>HOLD UP ALARM</td>\n",
              "      <td>False</td>\n",
              "      <td>6051 Greenbelt Rd</td>\n",
              "      <td>NaN</td>\n",
              "      <td>CHECKERS - GREENBELT P15311</td>\n",
              "      <td>PP/BH105</td>\n",
              "      <td>378R ACC BY STAFF NO BA</td>\n",
              "    </tr>\n",
              "    <tr>\n",
              "      <th>4</th>\n",
              "      <td>10/25/2016</td>\n",
              "      <td>18:06</td>\n",
              "      <td>Tuesday</td>\n",
              "      <td>PP16102500001914</td>\n",
              "      <td>NaN</td>\n",
              "      <td>B61</td>\n",
              "      <td>211</td>\n",
              "      <td>PREMISE CHECK</td>\n",
              "      <td>False</td>\n",
              "      <td>6200 Quebec Pl</td>\n",
              "      <td>NaN</td>\n",
              "      <td>NaN</td>\n",
              "      <td>NaN</td>\n",
              "      <td>300 NF</td>\n",
              "    </tr>\n",
              "  </tbody>\n",
              "</table>\n",
              "</div>"
            ],
            "text/plain": [
              "         Date   Time      DOW   CAD Call Number Case No. Sectr   RA  \\\n",
              "0  10/25/2016  10:36  Tuesday  PP16102500000843      NaN   B61  211   \n",
              "1  10/25/2016  13:31  Tuesday  PP16102500001229      NaN   B61  211   \n",
              "2  10/25/2016  16:12  Tuesday  PP16102500001572      NaN   B61  211   \n",
              "3  10/25/2016  16:49  Tuesday  PP16102500001667      NaN   B61  211   \n",
              "4  10/25/2016  18:06  Tuesday  PP16102500001914      NaN   B61  211   \n",
              "\n",
              "     Incident Type  Combined                        Location Unit  \\\n",
              "0  WARRANT SERVICE     False                  6123 Ruatan St  NaN   \n",
              "1  UNKNOWN TROUBLE     False               6215 Greenbelt Rd  NaN   \n",
              "2       DWI DRIVER     False  Kenilworth Ave Nb / Pontiac St  NaN   \n",
              "3    HOLD UP ALARM     False               6051 Greenbelt Rd  NaN   \n",
              "4    PREMISE CHECK     False                  6200 Quebec Pl  NaN   \n",
              "\n",
              "                   Common Name   Unit ID     Disposition Comments  \n",
              "0                          NaN  PP/SC166                      NaN  \n",
              "1                          NaN       NaN                      NaN  \n",
              "2                          NaN       NaN                      NaN  \n",
              "3  CHECKERS - GREENBELT P15311  PP/BH105  378R ACC BY STAFF NO BA  \n",
              "4                          NaN       NaN                   300 NF  "
            ]
          },
          "execution_count": 33,
          "metadata": {},
          "output_type": "execute_result"
        }
      ],
      "source": [
        "#Put all cleaning steps here\n",
        "df = pd.read_csv('cfs_data.csv')\n",
        "\n",
        "df.head()\n",
        "\n",
        "file_path = 'cfs_data_cleaned'\n",
        "\n",
        "# Remove Appox Loc from Location\n",
        "df['Location'] = df['Location'].str.replace('Approx Loc:', '', case=False)\n",
        "\n",
        "# Filter Wb and Eb from Location\n",
        "df['Location'] = df['Location'].str.replace(' Wb', '', case=False)\n",
        "df['Location'] = df['Location'].str.replace(' Eb', '', case=False)\n",
        "\n",
        "# Replace ' / ' with ' & ' in Location\n",
        "df['Location'] = df['Location'].str.replace(' / ', ' & ', case=False)\n",
        "\n",
        "# Remove apt and bldg from Location\n",
        "df['Unit'] = df['Location'].str.extract(r'(?i)((?:apt|bldg)\\s+\\d+)', expand=False)\n",
        "df.insert(9,\"Unit\", df.pop(\"Unit\"))\n",
        "\n",
        "df['Combined'] = df['Incident Type'].str.contains('combined', case=False, regex=True)\n",
        "df.insert(8,\"Combined\", df.pop(\"Combined\"))\n",
        "df['Incident Type'] = df['Incident Type'].str.replace(r'combined', '', case=False, regex=True).str.strip()\n",
        "\n",
        "df.head()"
      ]
    },
    {
      "cell_type": "code",
      "execution_count": 20,
      "metadata": {
        "colab": {
          "base_uri": "https://localhost:8080/",
          "height": 484
        },
        "id": "POSpOoaHuFHQ",
        "outputId": "0deebdfd-ef6c-474d-cbe4-75ed57f295a3"
      },
      "outputs": [
        {
          "data": {
            "text/plain": [
              "911 DISCONNECT       3355\n",
              "T - Traffic Stop     1598\n",
              "UNKNOWN TROUBLE      1174\n",
              "DISORDERLY           1171\n",
              "PREMISE CHECK        1136\n",
              "                     ... \n",
              "NON COMPLIANCE          1\n",
              "CHECK OCCUPANCY         1\n",
              "ROBBERY REPORT          1\n",
              "INVEST ANY TYPE         1\n",
              "DEPARTMENTAL ACCI       1\n",
              "Name: Incident Type, Length: 174, dtype: int64"
            ]
          },
          "execution_count": 20,
          "metadata": {},
          "output_type": "execute_result"
        }
      ],
      "source": [
        "# Count each incident type\n",
        "incident_type_counts = df['Incident Type'].value_counts()\n",
        "\n",
        "incident_type_counts"
      ]
    },
    {
      "cell_type": "code",
      "execution_count": 21,
      "metadata": {
        "colab": {
          "base_uri": "https://localhost:8080/",
          "height": 484
        },
        "id": "llUk3v-ruHPW",
        "outputId": "1ae7635e-6ab5-40da-9966-747c41bb5ba0"
      },
      "outputs": [
        {
          "data": {
            "text/plain": [
              "6215 Greenbelt Rd         1744\n",
              "8400 Ballew Ave           1272\n",
              "5815 Greenbelt Rd          596\n",
              "8900 Edmonston Rd          595\n",
              "6219 Greenbelt Rd          529\n",
              "                          ... \n",
              "6236 Seminole St             1\n",
              "6040 Greenbelt Rd            1\n",
              "8600 57th Ave                1\n",
              "Pontiac St / Quebec St       1\n",
              "7512 Courtney Pl             1\n",
              "Name: Location, Length: 2865, dtype: int64"
            ]
          },
          "execution_count": 21,
          "metadata": {},
          "output_type": "execute_result"
        }
      ],
      "source": [
        "location_counts = df['Location'].value_counts()\n",
        "\n",
        "location_counts"
      ]
    },
    {
      "cell_type": "code",
      "execution_count": 36,
      "metadata": {
        "colab": {
          "base_uri": "https://localhost:8080/",
          "height": 484
        },
        "id": "I-CBZLL70P-3",
        "outputId": "c664e4eb-568d-4f81-dd06-9178e9db4ac9"
      },
      "outputs": [
        {
          "data": {
            "text/plain": [
              "711                           785\n",
              "711 COLLEGE PARK              669\n",
              "MCDONALDS - GREENBELT         532\n",
              "STAPLES - BERWYN HEIGHTS      311\n",
              "SHELL GAS STATION             306\n",
              "                             ... \n",
              "NIMEL MENTAL HEALTH CLINIC      1\n",
              "BASEMENT UNIT                   1\n",
              "BEHIND GREENBELT S/C            1\n",
              "711 GLENNDALE                   1\n",
              "OUTSIDE OF MY EYE DR.           1\n",
              "Name: Common Name, Length: 259, dtype: int64"
            ]
          },
          "execution_count": 36,
          "metadata": {},
          "output_type": "execute_result"
        }
      ],
      "source": [
        "common_counts = df['Common Name'].value_counts()\n",
        "\n",
        "\n",
        "common_counts\n"
      ]
    },
    {
      "cell_type": "code",
      "execution_count": 35,
      "metadata": {},
      "outputs": [
        {
          "name": "stdout",
          "output_type": "stream",
          "text": [
            "{'100 Shady Glen Dr': 'FIRESTATION 2 - SHADY GLEN', '306 Hill Rd': 'MT CALVARY WAY OF THE CROSS CHURCH', '400 Jadeleaf Ave': 'CARMODY HILL ELEMENTARY', '401 Jadeleaf Ave': 'CARMODY HILLS ELEMENTARY', '5411 Berwyn Rd': 'BERWYN HEIGHTS POLICE DEPARTMENT', '5411 Berwyn Rd Apt 202b': 'CHARLTON HEIGHTS PROPERTIES', '5505 Branchville Rd': 'KING AND KING CONSTRUCTION', '5506 Cherrywood Ln': 'CHIPOTLE MEXICAN GRILL', '5550 Greenbelt Rd': 'BELTWAY PLAZA SHELL', '5600 Greenbelt Rd': 'TRUIST - GREENBELT', '5700 Berwyn Rd': 'BERWYN HEIGHTS TOWN CENTER', '5700 Branchville Rd': 'PRINCE GEORGES SCRAP', '5701 Greenbelt Rd': 'MY EYE DOCTOR', '5815 Greenbelt Rd': '711', '58th Ave / Greenbelt Rd': '7 ELEVEN', '5901 Greenbelt Rd': 'BELTWAY PLAZA GASOLINE', '5915 Greenbelt Rd': 'METROPOLITAN FAMILY PLANNING', '5919 Greenbelt Rd': 'EXTRA FUEL', '6000 Greenbelt Rd': 'BELTWAY PLAZA SHOPPING CTR', '6001 Greenbelt Rd': 'SHELL GAS STATION', '6011 Greenbelt Rd': 'SECU', '6017 Greenbelt Rd': 'PARKWAY LIQUORS', '6051 Greenbelt Rd': 'CHECKERS - GREENBELT', '60th Ave / Greenbelt Rd': 'SHELL GAS STATION', '60th Ave / Pontiac St': 'BERWYN HEIGHTS ELEMENTARY', '6101 Greenbelt Rd': 'KFC - GREENBELT', '6103 Greenbelt Rd': 'DENTAL CENTER', '6105 Greenbelt Rd': 'PARTS AUTHORITY', '6107 Greenbelt Rd': 'CAPITAL ONE BANK - GREENBELT', '6200 Pontiac St': 'BERWYN HEIGHTS ELEMENTARY', '6201 Greenbelt Rd': 'EXPRESS HEALTHCARE', '6201 Greenbelt Rd Apt 3': 'DIVING INTERVENTION', '6201 Greenbelt Rd Apt M-1': 'EXPRESS HEALTHCARE', '6201 Greenbelt Rd Apt M1': 'EXPRESS HEALTHCARE', '6201 Greenbelt Rd Apt M16': 'EXPRESS HEALTHCARE', '6201 Greenbelt Rd Apt M17': 'EXPRESS HEALTHCARE', '6201 Greenbelt Rd Apt M3': 'EXPRESS HEALTHCARE', '6201 Greenbelt Rd Apt M7': 'TNT HEALTHCARE', '6201 Greenbelt Rd Apt M9': 'EXPRESS HEALTHCARE', '6201 Greenbelt Rd Apt U1': 'LABCORP', '6201 Greenbelt Rd Apt U5': 'EXPRESS HEALTHCARE', '6201 Greenbelt Rd Apt U6': 'EXPRESS HEALTHCARE', '6201 Greenbelt Rd Apt U7': 'PREMIERE MEDICAL CENTER NIRVANA HEALTH', '6219 Greenbelt Rd': 'MCDONALDS - GREENBELT', '6242 Greenbelt Rd': 'WENDYS - GREENBELT', '62nd Ave / Quebec St': 'BERWYN HEIGHTS ELEMENTARY', '6301 Greenbelt Rd': 'BERWYN PRESBYTERIAN CHURCH', '6321 Greenbelt Rd': 'SALVATION MINISTRIES', '6323 Greenbelt Rd': 'SIR WALTER RALEIGH INN', '6327 Greenbelt Rd': 'SHELL', '6329 Greenbelt Rd': 'SANDY SPRING BANK', '6800 Central Ave Apt 204': 'CENTRAL GARDENS II', '7230 Central Ave': 'NEW LIFE ASSEMBLY', '7401 Willow Hill Dr': 'ROYAL OAK PENECOSTL CHURCH', '7411 Central Ave': '711 SEAT PLEASANT', '8454 Ballew Ave': 'METRO GREENBELT - TB', '8523 60th Ave': 'INVISIBLE FENCING OF PRINCE', '8603 57th Ave': 'BERWYN HEIGHTS LIBRARY', '8720 62nd Ave': 'GROUP HOME', '8811 60th Ave': 'FIRESTATION 14 - BERWYN HGTS', '8824 Cunningham Dr Apt B': 'NATIONAL SPINE AND PAIN CENTER', '8900 56th Ave': 'BERWYN HGTS PARK', '8900 Edmonston Rd': '711 COLLEGE PARK', '8904 62nd Ave': 'STAPLES - BERWYN HEIGHTS', '8904 62nd Ave Apt B': 'T MOBILE', '8904 62nd Ave Apt Ste B': 'TMOBILE', '8904 Edmonston Rd': '711 COLLEGE PARK', '8911 60th Ave': 'SIGMA REAL ESTATE SERVS', '9001 Railroad Ave': 'PEPCO', 'Greenbelt Rd / 58th Ave': '711', 'Greenbelt Rd / 59th Ave': '711', 'Greenbelt Rd / 60th Ave': 'XTRA FUEL', 'Greenbelt Rd / 62nd Ave': 'STAPLES', 'Greenbelt Rd / 63rd Ave': 'MCDONALDS', 'Greenbelt Rd / Edmonston Rd': 'SHELL GAS STATION', 'Hill Rd / Central Ave': 'FIRESTATION 2 - SHADY GLEN'}\n"
          ]
        },
        {
          "data": {
            "text/html": [
              "<div>\n",
              "<style scoped>\n",
              "    .dataframe tbody tr th:only-of-type {\n",
              "        vertical-align: middle;\n",
              "    }\n",
              "\n",
              "    .dataframe tbody tr th {\n",
              "        vertical-align: top;\n",
              "    }\n",
              "\n",
              "    .dataframe thead th {\n",
              "        text-align: right;\n",
              "    }\n",
              "</style>\n",
              "<table border=\"1\" class=\"dataframe\">\n",
              "  <thead>\n",
              "    <tr style=\"text-align: right;\">\n",
              "      <th></th>\n",
              "      <th>Date</th>\n",
              "      <th>Time</th>\n",
              "      <th>DOW</th>\n",
              "      <th>CAD Call Number</th>\n",
              "      <th>Case No.</th>\n",
              "      <th>Sectr</th>\n",
              "      <th>RA</th>\n",
              "      <th>Incident Type</th>\n",
              "      <th>Combined</th>\n",
              "      <th>Location</th>\n",
              "      <th>Unit</th>\n",
              "      <th>Common Name</th>\n",
              "      <th>Unit ID</th>\n",
              "      <th>Disposition Comments</th>\n",
              "    </tr>\n",
              "  </thead>\n",
              "  <tbody>\n",
              "    <tr>\n",
              "      <th>0</th>\n",
              "      <td>10/25/2016</td>\n",
              "      <td>10:36</td>\n",
              "      <td>Tuesday</td>\n",
              "      <td>PP16102500000843</td>\n",
              "      <td>NaN</td>\n",
              "      <td>B61</td>\n",
              "      <td>211</td>\n",
              "      <td>WARRANT SERVICE</td>\n",
              "      <td>False</td>\n",
              "      <td>6123 Ruatan St</td>\n",
              "      <td>NaN</td>\n",
              "      <td>NaN</td>\n",
              "      <td>PP/SC166</td>\n",
              "      <td>NaN</td>\n",
              "    </tr>\n",
              "    <tr>\n",
              "      <th>1</th>\n",
              "      <td>10/25/2016</td>\n",
              "      <td>13:31</td>\n",
              "      <td>Tuesday</td>\n",
              "      <td>PP16102500001229</td>\n",
              "      <td>NaN</td>\n",
              "      <td>B61</td>\n",
              "      <td>211</td>\n",
              "      <td>UNKNOWN TROUBLE</td>\n",
              "      <td>False</td>\n",
              "      <td>6215 Greenbelt Rd</td>\n",
              "      <td>NaN</td>\n",
              "      <td>NaN</td>\n",
              "      <td>NaN</td>\n",
              "      <td>NaN</td>\n",
              "    </tr>\n",
              "    <tr>\n",
              "      <th>2</th>\n",
              "      <td>10/25/2016</td>\n",
              "      <td>16:12</td>\n",
              "      <td>Tuesday</td>\n",
              "      <td>PP16102500001572</td>\n",
              "      <td>NaN</td>\n",
              "      <td>B61</td>\n",
              "      <td>211</td>\n",
              "      <td>DWI DRIVER</td>\n",
              "      <td>False</td>\n",
              "      <td>Kenilworth Ave Nb / Pontiac St</td>\n",
              "      <td>NaN</td>\n",
              "      <td>NaN</td>\n",
              "      <td>NaN</td>\n",
              "      <td>NaN</td>\n",
              "    </tr>\n",
              "    <tr>\n",
              "      <th>3</th>\n",
              "      <td>10/25/2016</td>\n",
              "      <td>16:49</td>\n",
              "      <td>Tuesday</td>\n",
              "      <td>PP16102500001667</td>\n",
              "      <td>NaN</td>\n",
              "      <td>B61</td>\n",
              "      <td>211</td>\n",
              "      <td>HOLD UP ALARM</td>\n",
              "      <td>False</td>\n",
              "      <td>6051 Greenbelt Rd</td>\n",
              "      <td>NaN</td>\n",
              "      <td>CHECKERS - GREENBELT</td>\n",
              "      <td>PP/BH105</td>\n",
              "      <td>378R ACC BY STAFF NO BA</td>\n",
              "    </tr>\n",
              "    <tr>\n",
              "      <th>4</th>\n",
              "      <td>10/25/2016</td>\n",
              "      <td>18:06</td>\n",
              "      <td>Tuesday</td>\n",
              "      <td>PP16102500001914</td>\n",
              "      <td>NaN</td>\n",
              "      <td>B61</td>\n",
              "      <td>211</td>\n",
              "      <td>PREMISE CHECK</td>\n",
              "      <td>False</td>\n",
              "      <td>6200 Quebec Pl</td>\n",
              "      <td>NaN</td>\n",
              "      <td>NaN</td>\n",
              "      <td>NaN</td>\n",
              "      <td>300 NF</td>\n",
              "    </tr>\n",
              "  </tbody>\n",
              "</table>\n",
              "</div>"
            ],
            "text/plain": [
              "         Date   Time      DOW   CAD Call Number Case No. Sectr   RA  \\\n",
              "0  10/25/2016  10:36  Tuesday  PP16102500000843      NaN   B61  211   \n",
              "1  10/25/2016  13:31  Tuesday  PP16102500001229      NaN   B61  211   \n",
              "2  10/25/2016  16:12  Tuesday  PP16102500001572      NaN   B61  211   \n",
              "3  10/25/2016  16:49  Tuesday  PP16102500001667      NaN   B61  211   \n",
              "4  10/25/2016  18:06  Tuesday  PP16102500001914      NaN   B61  211   \n",
              "\n",
              "     Incident Type  Combined                        Location Unit  \\\n",
              "0  WARRANT SERVICE     False                  6123 Ruatan St  NaN   \n",
              "1  UNKNOWN TROUBLE     False               6215 Greenbelt Rd  NaN   \n",
              "2       DWI DRIVER     False  Kenilworth Ave Nb / Pontiac St  NaN   \n",
              "3    HOLD UP ALARM     False               6051 Greenbelt Rd  NaN   \n",
              "4    PREMISE CHECK     False                  6200 Quebec Pl  NaN   \n",
              "\n",
              "            Common Name   Unit ID     Disposition Comments  \n",
              "0                   NaN  PP/SC166                      NaN  \n",
              "1                   NaN       NaN                      NaN  \n",
              "2                   NaN       NaN                      NaN  \n",
              "3  CHECKERS - GREENBELT  PP/BH105  378R ACC BY STAFF NO BA  \n",
              "4                   NaN       NaN                   300 NF  "
            ]
          },
          "execution_count": 35,
          "metadata": {},
          "output_type": "execute_result"
        }
      ],
      "source": [
        "# Group by 'Location' and 'Common Name' and count occurrences\n",
        "location_common_name_counts = df.groupby(['Location', 'Common Name']).size().reset_index(name='count')\n",
        "\n",
        "# Filter out 'Common Name' that appears only once for each 'Location'\n",
        "filtered_counts = location_common_name_counts[location_common_name_counts['count'] > 1]\n",
        "\n",
        "# Find the most frequent 'Common Name' for each 'Location'\n",
        "most_frequent_common_name = filtered_counts.loc[filtered_counts.groupby('Location')['count'].idxmax()]\n",
        "\n",
        "# Create a dictionary with 'Location' as the key and the most frequent 'Common Name' as the value\n",
        "location_to_common_name = most_frequent_common_name.set_index('Location')['Common Name'].to_dict()\n",
        "\n",
        "print(location_to_common_name)\n",
        "\n",
        "# Replace items in the 'Common Name' column that match 'Location' in the dictionary\n",
        "df['Common Name'] = df['Location'].map(location_to_common_name).fillna(df['Common Name'])\n",
        "\n",
        "# Save the updated DataFrame to a new CSV file\n",
        "df.to_csv(file_path, index=False)\n",
        "\n",
        "df.head()"
      ]
    },
    {
      "cell_type": "code",
      "execution_count": 8,
      "metadata": {
        "colab": {
          "base_uri": "https://localhost:8080/"
        },
        "id": "oUDo4LBTuIu8",
        "outputId": "2f77a4fc-0035-4d77-a6c3-ef33b43c5492"
      },
      "outputs": [
        {
          "name": "stdout",
          "output_type": "stream",
          "text": [
            "                Variable        VIF\n",
            "0                   Date   3.931217\n",
            "1                   Time   5.851996\n",
            "2                    DOW   3.119332\n",
            "3        CAD Call Number   6.076120\n",
            "4               Case No.  26.474817\n",
            "5                  Sectr  16.736700\n",
            "6                     RA   2.329707\n",
            "7          Incident Type   2.852747\n",
            "8               Combined   1.059989\n",
            "9                   Unit  54.436270\n",
            "10           Common Name  12.051951\n",
            "11               Unit ID   7.365304\n",
            "12  Disposition Comments   8.302277\n"
          ]
        }
      ],
      "source": [
        "df_encoded = df.copy()\n",
        "df_encoded.replace([np.inf, -np.inf], np.nan, inplace=True)\n",
        "\n",
        "categorical_cols = df.columns\n",
        "\n",
        "le = LabelEncoder()\n",
        "for col in categorical_cols:\n",
        "    df_encoded[col] = le.fit_transform(df_encoded[col].astype(str))\n",
        "\n",
        "X = df_encoded.drop(columns=['Location'])\n",
        "\n",
        "vif_data = pd.DataFrame()\n",
        "vif_data['Variable'] = X.columns\n",
        "vif_data['VIF'] = [\n",
        "    variance_inflation_factor(X.values, i) for i in range(X.shape[1])\n",
        "]\n",
        "\n",
        "print(vif_data)"
      ]
    },
    {
      "cell_type": "code",
      "execution_count": 9,
      "metadata": {
        "colab": {
          "base_uri": "https://localhost:8080/",
          "height": 500
        },
        "id": "-zU7Yo4kDlPU",
        "outputId": "432e35aa-5b1c-440f-dc29-b76c371a0fd4"
      },
      "outputs": [
        {
          "data": {
            "image/png": "[encoded data removed]",
            "text/plain": [
              "<Figure size 1000x600 with 1 Axes>"
            ]
          },
          "metadata": {},
          "output_type": "display_data"
        }
      ],
      "source": [
        "plt.figure(figsize=(10, 6))\n",
        "plt.bar(vif_data['Variable'], vif_data['VIF'], color='blue')\n",
        "plt.xlabel('Variables')\n",
        "plt.ylabel('VIF')\n",
        "plt.title('Variance Inflation Factor for Features')\n",
        "plt.xticks(rotation=45, ha='right')\n",
        "plt.tight_layout()\n",
        "plt.show()"
      ]
    },
    {
      "cell_type": "code",
      "execution_count": null,
      "metadata": {
        "id": "8jeZmLSNDlkK"
      },
      "outputs": [],
      "source": []
    }
  ],
  "metadata": {
    "colab": {
      "provenance": []
    },
    "kernelspec": {
      "display_name": "base",
      "language": "python",
      "name": "python3"
    },
    "language_info": {
      "codemirror_mode": {
        "name": "ipython",
        "version": 3
      },
      "file_extension": ".py",
      "mimetype": "text/x-python",
      "name": "python",
      "nbconvert_exporter": "python",
      "pygments_lexer": "ipython3",
      "version": "3.9.13"
    }
  },
  "nbformat": 4,
  "nbformat_minor": 0
}
